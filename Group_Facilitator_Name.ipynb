{
 "cells": [
  {
   "cell_type": "markdown",
   "id": "859a0615-b9b7-4fbe-a2f6-95a8a3d94b73",
   "metadata": {},
   "source": [
    "# Lending Club Case Study."
   ]
  },
  {
   "cell_type": "code",
   "execution_count": null,
   "id": "8e413a37-02b2-458e-aaee-aa51f9451e5f",
   "metadata": {},
   "outputs": [],
   "source": []
  }
 ],
 "metadata": {
  "kernelspec": {
   "display_name": "Python 3 (ipykernel)",
   "language": "python",
   "name": "python3"
  },
  "language_info": {
   "codemirror_mode": {
    "name": "ipython",
    "version": 3
   },
   "file_extension": ".py",
   "mimetype": "text/x-python",
   "name": "python",
   "nbconvert_exporter": "python",
   "pygments_lexer": "ipython3",
   "version": "3.11.4"
  }
 },
 "nbformat": 4,
 "nbformat_minor": 5
}
